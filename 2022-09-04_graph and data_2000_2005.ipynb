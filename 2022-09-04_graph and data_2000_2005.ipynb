{
 "cells": [
  {
   "cell_type": "markdown",
   "id": "f7f93576",
   "metadata": {},
   "source": [
    "### First Script - Frequency Compiling and Export to CSV\n",
    "\n",
    "This script was created on 2022-10-06. It can perform frequency compiling based a directory that contains XML files, returned by ProQuest TMD Studio search.  \\\n",
    "It has two required file path that needed to be inputted manually. The first one is located at cell 4 for the input data directory and the second one is located at cell 19, which is the directory of the frequency count csv file."
   ]
  },
  {
   "cell_type": "code",
   "execution_count": 1,
   "id": "ea26867c",
   "metadata": {},
   "outputs": [],
   "source": [
    "# Libraries for parsing data\n",
    "from lxml import etree\n",
    "from bs4 import BeautifulSoup\n",
    "import pandas as pd\n",
    "import os\n",
    "\n",
    "# Library for plotting data\n",
    "import matplotlib.pyplot as plt"
   ]
  },
  {
   "cell_type": "code",
   "execution_count": 2,
   "id": "bb4de732",
   "metadata": {},
   "outputs": [],
   "source": [
    "str1= '20230826sample308'"
   ]
  },
  {
   "cell_type": "code",
   "execution_count": null,
   "id": "037c74e6",
   "metadata": {},
   "outputs": [],
   "source": []
  },
  {
   "cell_type": "code",
   "execution_count": 3,
   "id": "ccc0ab08",
   "metadata": {},
   "outputs": [],
   "source": [
    "# Set corpus to the folder of files you want to use\n",
    "corpus = '/home/ec2-user/SageMaker/data/' + str1 + '/'\n",
    "\n",
    "# Read in files\n",
    "input_files = os.listdir(corpus)"
   ]
  },
  {
   "cell_type": "code",
   "execution_count": 4,
   "id": "1310df54",
   "metadata": {},
   "outputs": [],
   "source": [
    "# Function to strip html tags from text portion\n",
    "def strip_html_tags(text):\n",
    "    stripped = BeautifulSoup(text).get_text().replace('\\n', ' ').replace('\\\\', '').strip()\n",
    "    return stripped"
   ]
  },
  {
   "cell_type": "code",
   "execution_count": 5,
   "id": "71d8b1f8",
   "metadata": {},
   "outputs": [],
   "source": [
    "def getxmlcontent(corpus, file, strip_html=True):\n",
    "    try:\n",
    "        tree = etree.parse(corpus + file)\n",
    "        root = tree.getroot()\n",
    "\n",
    "        if root.find('.//GOID') is not None:\n",
    "            goid = root.find('.//GOID').text\n",
    "        else:\n",
    "            goid = None\n",
    "\n",
    "        if root.find('.//Title') is not None:\n",
    "            title = root.find('.//Title').text\n",
    "        else:\n",
    "            title = None\n",
    "\n",
    "        if root.find('.//NumericDate') is not None:\n",
    "            date = root.find('.//NumericDate').text\n",
    "        else:\n",
    "            date = None\n",
    "            \n",
    "        if root.find('.//PublisherName') is not None:\n",
    "            publisher = root.find('.//PublisherName').text\n",
    "        else:\n",
    "            publisher = None\n",
    "\n",
    "        if root.find('.//FullText') is not None:\n",
    "            text = root.find('.//FullText').text\n",
    "\n",
    "        elif root.find('.//HiddenText') is not None:\n",
    "            text = root.find('.//HiddenText').text\n",
    "\n",
    "        elif root.find('.//Text') is not None:\n",
    "            text = root.find('.//Text').text\n",
    "\n",
    "        else:\n",
    "            text = None\n",
    "\n",
    "        # Strip html from text portion\n",
    "        if text is not None and strip_html == True:\n",
    "            text = strip_html_tags(text)\n",
    "    \n",
    "    except Exception as e:\n",
    "        print(f\"Error while parsing file {file}: {e}\")\n",
    "    \n",
    "    return goid, title, date, publisher, text"
   ]
  },
  {
   "cell_type": "code",
   "execution_count": 6,
   "id": "2b9a0a5a",
   "metadata": {},
   "outputs": [
    {
     "name": "stdout",
     "output_type": "stream",
     "text": [
      "Error while parsing file metadata: Document is empty, line 1, column 1 (metadata, line 1)\n"
     ]
    }
   ],
   "source": [
    "# Columns lists\n",
    "goid_list = []\n",
    "publisher_list = []\n",
    "title_list = []\n",
    "text_list = []\n",
    "date_list = []\n",
    "\n",
    "# Used for grouping by publisher\n",
    "publishers = []\n",
    "\n",
    "for file in input_files:\n",
    "    try:\n",
    "        goid, title, date, publisher, text = getxmlcontent(corpus, file, strip_html=True)\n",
    "\n",
    "        goid_list.append(goid)\n",
    "        publisher_list.append(publisher)\n",
    "        title_list.append(title)\n",
    "        text_list.append(text)\n",
    "        date_list.append(date)\n",
    "    except:\n",
    "        pass"
   ]
  },
  {
   "cell_type": "code",
   "execution_count": 7,
   "id": "42d37a20",
   "metadata": {},
   "outputs": [],
   "source": [
    "# Transform processed data into a dataframe\n",
    "df = pd.DataFrame({'GOID': goid_list, 'Publisher': publisher_list, 'Title':title_list, 'Text': text_list, 'Date': date_list})"
   ]
  },
  {
   "cell_type": "code",
   "execution_count": 8,
   "id": "7f220e0d",
   "metadata": {},
   "outputs": [
    {
     "data": {
      "text/plain": [
       "5909"
      ]
     },
     "execution_count": 8,
     "metadata": {},
     "output_type": "execute_result"
    }
   ],
   "source": [
    "len(df)"
   ]
  },
  {
   "cell_type": "code",
   "execution_count": 9,
   "id": "acfa5108",
   "metadata": {},
   "outputs": [],
   "source": [
    "df = df.dropna()"
   ]
  },
  {
   "cell_type": "code",
   "execution_count": 10,
   "id": "829d7806",
   "metadata": {},
   "outputs": [],
   "source": [
    "random_df = df.sample(n=200, random_state=123)"
   ]
  },
  {
   "cell_type": "code",
   "execution_count": 11,
   "id": "36718e5b",
   "metadata": {},
   "outputs": [],
   "source": [
    "random_df.to_csv('/home/ec2-user/SageMaker/data/20230828/' + str1 + 'NYT_articles.csv')"
   ]
  },
  {
   "cell_type": "code",
   "execution_count": 12,
   "id": "fbdebcfb",
   "metadata": {},
   "outputs": [],
   "source": [
    "#df.sort_values(by='Date', inplace=True)"
   ]
  },
  {
   "cell_type": "code",
   "execution_count": 13,
   "id": "e47de4de",
   "metadata": {},
   "outputs": [],
   "source": [
    "# Convert date column into type datetime\n",
    "df['Date'] = pd.to_datetime(df['Date'])\n",
    "\n",
    "# Remove column \"Date\" without value\n",
    "#df = df.dropna(subset=['Date'], )"
   ]
  },
  {
   "cell_type": "code",
   "execution_count": 14,
   "id": "2bea913d",
   "metadata": {},
   "outputs": [],
   "source": [
    "# Format the table to frequency table \n",
    "new_df = df.groupby([df['Date'].dt.year.rename('year'), df['Date'].dt.month.rename('month')]).agg({'count'}, dropna=False)"
   ]
  },
  {
   "cell_type": "code",
   "execution_count": 15,
   "id": "55197aec",
   "metadata": {},
   "outputs": [],
   "source": [
    "# Drop \"Publisher\", \"Text\" and \"Date\"\n",
    "new_df = new_df.drop(columns=['GOID','Publisher', 'Text', 'Date'])"
   ]
  },
  {
   "cell_type": "code",
   "execution_count": 16,
   "id": "8e36204e",
   "metadata": {},
   "outputs": [],
   "source": [
    "#change name of dataframe\n",
    "new_df.columns =['count']"
   ]
  },
  {
   "cell_type": "code",
   "execution_count": 17,
   "id": "d1d26d3a",
   "metadata": {},
   "outputs": [],
   "source": [
    "#reset as dataframe from multi-index\n",
    "#new_df = new_df.reset_index()"
   ]
  },
  {
   "cell_type": "code",
   "execution_count": 18,
   "id": "ee5b9b15",
   "metadata": {},
   "outputs": [],
   "source": [
    "#month_df = pd.read_csv('/home/ec2-user/SageMaker/data/NYT_scores/2023-07-18-fueleconomy-index_monthly.csv')\n",
    "#quarter_df = pd.read_csv('/home/ec2-user/SageMaker/data/NYT_scores/2023-07-18-fueleconomy-index_quarter.csv')"
   ]
  },
  {
   "cell_type": "code",
   "execution_count": 19,
   "id": "f1507432",
   "metadata": {},
   "outputs": [],
   "source": [
    "month_df = pd.read_csv('/home/ec2-user/SageMaker/data/20230824sample101month.csv')\n",
    "quarter_df = pd.read_csv('/home/ec2-user/SageMaker/data/20230824sample101quarter.csv')"
   ]
  },
  {
   "cell_type": "code",
   "execution_count": 20,
   "id": "09cd4048",
   "metadata": {},
   "outputs": [],
   "source": [
    "monthly_df = new_df.merge(month_df, on = ['year', 'month'], how = 'right')"
   ]
  },
  {
   "cell_type": "code",
   "execution_count": 21,
   "id": "187b6521",
   "metadata": {},
   "outputs": [],
   "source": [
    "#monthly_df = new_df.merge(month_df, left_on=['year','month'], right_on = ['year','month'], how='right')"
   ]
  },
  {
   "cell_type": "code",
   "execution_count": 22,
   "id": "251bf3d0",
   "metadata": {},
   "outputs": [],
   "source": [
    "monthly_df = monthly_df.fillna(0)"
   ]
  },
  {
   "cell_type": "code",
   "execution_count": 23,
   "id": "771de072",
   "metadata": {},
   "outputs": [],
   "source": [
    "monthly_df['normalized'] = monthly_df['count']/month_df['nb all articles']\n",
    "monthly_df['nb relevant articles'] = monthly_df['count']\n",
    "monthly_df = monthly_df.drop(columns = ['count'])"
   ]
  },
  {
   "cell_type": "code",
   "execution_count": 24,
   "id": "ee144f4d",
   "metadata": {},
   "outputs": [],
   "source": [
    "#monthly_df['nb all articles'] = monthly_df['score']\n",
    "#monthly_df['nb relevant articles'] = monthly_df['count']\n",
    "#monthly_df = monthly_df[['normalized', 'year','month', 'nb all articles', 'nb relevant articles']]"
   ]
  },
  {
   "cell_type": "code",
   "execution_count": 25,
   "id": "24e115f7",
   "metadata": {},
   "outputs": [],
   "source": [
    "monthly_df.to_csv('/home/ec2-user/SageMaker/data/20230828/' + str1 + 'month.csv', index=False)"
   ]
  },
  {
   "cell_type": "code",
   "execution_count": 26,
   "id": "a23fef37",
   "metadata": {},
   "outputs": [],
   "source": [
    "new_df = df.groupby([df['Date'].dt.year.rename('year'), df['Date'].dt.quarter.rename('quarter')]).agg({'count'}, dropna=False)\n",
    "new_df = new_df.drop(columns=['GOID','Publisher', 'Text', 'Date'])\n",
    "new_df.columns =['count']\n",
    "new_df = new_df.reset_index()"
   ]
  },
  {
   "cell_type": "code",
   "execution_count": 27,
   "id": "af32707a",
   "metadata": {},
   "outputs": [],
   "source": [
    "quarterly_df = new_df.merge(quarter_df, on=['year','quarter'], how='right')\n",
    "quarterly_df = quarterly_df.fillna(0)\n",
    "quarterly_df['normalized'] = quarterly_df['count']/month_df['nb all articles']\n",
    "quarterly_df['nb relevant articles'] = quarterly_df['count']\n",
    "quarterly_df = quarterly_df.drop(columns = ['count'])\n",
    "quarterly_df = quarterly_df[['normalized', 'year','quarter', 'nb all articles', 'nb relevant articles']]"
   ]
  },
  {
   "cell_type": "code",
   "execution_count": 28,
   "id": "6e5ebcbe",
   "metadata": {},
   "outputs": [],
   "source": [
    "quarterly_df.to_csv('/home/ec2-user/SageMaker/data/20230828/'+str1+'quarter.csv', index=False)"
   ]
  },
  {
   "cell_type": "code",
   "execution_count": null,
   "id": "c1da9e2f",
   "metadata": {},
   "outputs": [],
   "source": []
  }
 ],
 "metadata": {
  "kernelspec": {
   "display_name": "conda_python3",
   "language": "python",
   "name": "conda_python3"
  },
  "language_info": {
   "codemirror_mode": {
    "name": "ipython",
    "version": 3
   },
   "file_extension": ".py",
   "mimetype": "text/x-python",
   "name": "python",
   "nbconvert_exporter": "python",
   "pygments_lexer": "ipython3",
   "version": "3.6.13"
  }
 },
 "nbformat": 4,
 "nbformat_minor": 5
}
