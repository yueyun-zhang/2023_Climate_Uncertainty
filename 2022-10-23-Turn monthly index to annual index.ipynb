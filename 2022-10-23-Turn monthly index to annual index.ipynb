{
 "cells": [
  {
   "cell_type": "code",
   "execution_count": 58,
   "id": "d421e5ea",
   "metadata": {},
   "outputs": [],
   "source": [
    "import pandas as pd\n",
    "import numpy as np"
   ]
  },
  {
   "cell_type": "code",
   "execution_count": 59,
   "id": "30ab5db3",
   "metadata": {},
   "outputs": [],
   "source": [
    "month_overall_index = pd.read_csv('/home/ec2-user/SageMaker/data/2022-10-06-test_export_files_1/ALL/2022-11-12-ALLNYT.csv')"
   ]
  },
  {
   "cell_type": "code",
   "execution_count": 60,
   "id": "6c1af07a",
   "metadata": {},
   "outputs": [],
   "source": [
    "month_sampleraw_index = pd.read_csv('/home/ec2-user/SageMaker/data/2022-10-06-test_export_files_1/sample7_raw.csv')"
   ]
  },
  {
   "cell_type": "code",
   "execution_count": 61,
   "id": "eab067df",
   "metadata": {},
   "outputs": [],
   "source": [
    "annual_overall_index = month_overall_index.drop(columns='month').groupby('year').sum().sort_index()\n",
    "annual_sampleraw_index = month_sampleraw_index.drop(columns='month').groupby('year').sum().sort_index()"
   ]
  },
  {
   "cell_type": "code",
   "execution_count": 62,
   "id": "46140ae6",
   "metadata": {},
   "outputs": [],
   "source": [
    "annual_sampleraw_index.to_csv('/home/ec2-user/SageMaker/data/2022-10-06-test_export_files_1/sample7/sample7_annual_rawcount.csv')"
   ]
  },
  {
   "cell_type": "code",
   "execution_count": 63,
   "id": "7f4d14dc",
   "metadata": {},
   "outputs": [],
   "source": [
    "annual_sampleraw_index['normalized by days'] = annual_sampleraw_index['count']/365"
   ]
  },
  {
   "cell_type": "code",
   "execution_count": 64,
   "id": "388175b9",
   "metadata": {},
   "outputs": [],
   "source": [
    "annual_sampleraw_index.drop(columns='count').to_csv('/home/ec2-user/SageMaker/data/2022-10-06-test_export_files_1/sample7/sample7_annual_bydays.csv')"
   ]
  },
  {
   "cell_type": "code",
   "execution_count": 65,
   "id": "2322ce0f",
   "metadata": {},
   "outputs": [],
   "source": [
    "annual_sampleraw_index = annual_sampleraw_index.drop(columns = 'normalized by days')\n",
    "df = pd.merge(annual_overall_index, annual_sampleraw_index, right_index=True, left_index=True)\n",
    "df['normalized by articles'] = df['count_y']/df['count_x']\n",
    "df = df.drop(columns = ['count_x', 'count_y'])\n",
    "df.to_csv('/home/ec2-user/SageMaker/data/2022-10-06-test_export_files_1/sample7/sample7_annual_byarticles.csv')"
   ]
  },
  {
   "cell_type": "code",
   "execution_count": null,
   "id": "9646b734",
   "metadata": {},
   "outputs": [],
   "source": []
  },
  {
   "cell_type": "code",
   "execution_count": null,
   "id": "098174e1",
   "metadata": {},
   "outputs": [],
   "source": []
  }
 ],
 "metadata": {
  "kernelspec": {
   "display_name": "conda_python3",
   "language": "python",
   "name": "conda_python3"
  },
  "language_info": {
   "codemirror_mode": {
    "name": "ipython",
    "version": 3
   },
   "file_extension": ".py",
   "mimetype": "text/x-python",
   "name": "python",
   "nbconvert_exporter": "python",
   "pygments_lexer": "ipython3",
   "version": "3.6.13"
  }
 },
 "nbformat": 4,
 "nbformat_minor": 5
}
