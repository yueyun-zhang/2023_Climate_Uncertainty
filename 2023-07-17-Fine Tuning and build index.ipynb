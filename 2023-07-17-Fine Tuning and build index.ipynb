{
 "cells": [
  {
   "cell_type": "code",
   "execution_count": 1,
   "id": "a8b7e75a",
   "metadata": {},
   "outputs": [],
   "source": [
    "import pandas as pd\n",
    "import sklearn \n",
    "from sklearn.metrics import confusion_matrix, classification_report, f1_score, accuracy_score\n",
    "import numpy as np\n",
    "import matplotlib.pyplot as plt"
   ]
  },
  {
   "cell_type": "code",
   "execution_count": 2,
   "id": "5941205d",
   "metadata": {},
   "outputs": [],
   "source": [
    "df = pd.read_csv('/home/ec2-user/SageMaker/data/NYT_scores/2023-08-09-NYT-fuelefficiency_score.csv')"
   ]
  },
  {
   "cell_type": "code",
   "execution_count": 3,
   "id": "fb05821c",
   "metadata": {},
   "outputs": [],
   "source": [
    "df['date'] = pd.to_datetime(df['date'])"
   ]
  },
  {
   "cell_type": "code",
   "execution_count": 4,
   "id": "1aec9830",
   "metadata": {},
   "outputs": [],
   "source": [
    "df['year'] = df['date'].dt.year"
   ]
  },
  {
   "cell_type": "code",
   "execution_count": 6,
   "id": "0055a375",
   "metadata": {},
   "outputs": [],
   "source": [
    "df['GOID'] = df['Unnamed: 0']"
   ]
  },
  {
   "cell_type": "code",
   "execution_count": 9,
   "id": "25425383",
   "metadata": {},
   "outputs": [
    {
     "data": {
      "text/plain": [
       "<AxesSubplot:title={'center':'Distribution of scores - fuel economy'}, xlabel='year', ylabel='score'>"
      ]
     },
     "execution_count": 9,
     "metadata": {},
     "output_type": "execute_result"
    }
   ],
   "source": [
    "import seaborn as sn\n",
    "sn.set(rc={'figure.figsize':(30,7)})\n",
    "ax=sn.boxplot(x='year', y='score', data=df.loc[(df['year']>1980) & (df['year']<2005)], palette=\"Set3\", linewidth=1)\n",
    "ax"
   ]
  },
  {
   "cell_type": "code",
   "execution_count": 8,
   "id": "7e7b64ac",
   "metadata": {},
   "outputs": [
    {
     "data": {
      "text/plain": [
       "Text(0, 0.5, 'distribution')"
      ]
     },
     "execution_count": 8,
     "metadata": {},
     "output_type": "execute_result"
    }
   ],
   "source": [
    "import matplotlib.pyplot as plt\n",
    "import seaborn as sns\n",
    "\n",
    "sns.reset_defaults()\n",
    "plt.rcdefaults()\n",
    "\n",
    "# matplotlib histogram\n",
    "plt.hist(df['score'], color = 'blue', edgecolor = 'black',\n",
    "         bins = int(180/5))\n",
    "\n",
    "#sns.distplot(df['score'], hist=True, kde=False, \n",
    "#             bins=int(180/5), color = 'blue',\n",
    "#             hist_kws={'edgecolor':'black'})\n",
    "# Add labels\n",
    "plt.title('Distribution of scores - fuel economy')\n",
    "plt.xlabel('scores for fuel economy')\n",
    "plt.ylabel('distribution')\n",
    "#sns.display()"
   ]
  },
  {
   "cell_type": "code",
   "execution_count": null,
   "id": "3167f9b3",
   "metadata": {},
   "outputs": [],
   "source": [
    "#new_df = df.loc[(df['score']>0.45) & (df['score']<0.65)]\n",
    "#new_df = new_df.sample(300)\n",
    "#new_df = new_df.sort_values(by='score')\n",
    "#new_df.to_csv('/home/ec2-user/SageMaker/data/manual_classification/semantic_fuelefficiency0.45_0.60_n300.csv')"
   ]
  },
  {
   "cell_type": "code",
   "execution_count": null,
   "id": "745eda2a",
   "metadata": {},
   "outputs": [],
   "source": [
    "#random_df = df.loc[(df['date']>'2019-09-01') & (df['date']<'2019-12-31') & (df['score']>0.3)]\n",
    "#random_df.to_csv('/home/ec2-user/SageMaker/data/random_sample_reading/semantic_greenervehicles.csv')"
   ]
  },
  {
   "cell_type": "code",
   "execution_count": 161,
   "id": "038d59c9",
   "metadata": {},
   "outputs": [],
   "source": [
    "df1 = pd.read_csv('/home/ec2-user/SageMaker/data/manual_classification/semantic_fuelefficiency0.45_0.60_n300.csv')"
   ]
  },
  {
   "cell_type": "code",
   "execution_count": 162,
   "id": "6d439a1a",
   "metadata": {},
   "outputs": [],
   "source": [
    "df1['GOID'] = df1['Unnamed: 0.1']\n",
    "df1 = df1[['GOID','score', 'Classification_broad', 'Classification_cars']]"
   ]
  },
  {
   "cell_type": "code",
   "execution_count": 163,
   "id": "9ec96ddc",
   "metadata": {},
   "outputs": [
    {
     "data": {
      "text/html": [
       "<div>\n",
       "<style scoped>\n",
       "    .dataframe tbody tr th:only-of-type {\n",
       "        vertical-align: middle;\n",
       "    }\n",
       "\n",
       "    .dataframe tbody tr th {\n",
       "        vertical-align: top;\n",
       "    }\n",
       "\n",
       "    .dataframe thead th {\n",
       "        text-align: right;\n",
       "    }\n",
       "</style>\n",
       "<table border=\"1\" class=\"dataframe\">\n",
       "  <thead>\n",
       "    <tr style=\"text-align: right;\">\n",
       "      <th></th>\n",
       "      <th>GOID</th>\n",
       "      <th>score</th>\n",
       "      <th>Classification_broad</th>\n",
       "      <th>Classification_cars</th>\n",
       "    </tr>\n",
       "  </thead>\n",
       "  <tbody>\n",
       "    <tr>\n",
       "      <th>0</th>\n",
       "      <td>113463667</td>\n",
       "      <td>0.450116</td>\n",
       "      <td>0</td>\n",
       "      <td>0</td>\n",
       "    </tr>\n",
       "    <tr>\n",
       "      <th>1</th>\n",
       "      <td>1815161169</td>\n",
       "      <td>0.450196</td>\n",
       "      <td>1</td>\n",
       "      <td>1</td>\n",
       "    </tr>\n",
       "    <tr>\n",
       "      <th>2</th>\n",
       "      <td>91345945</td>\n",
       "      <td>0.450211</td>\n",
       "      <td>0</td>\n",
       "      <td>0</td>\n",
       "    </tr>\n",
       "  </tbody>\n",
       "</table>\n",
       "</div>"
      ],
      "text/plain": [
       "         GOID     score  Classification_broad  Classification_cars\n",
       "0   113463667  0.450116                     0                    0\n",
       "1  1815161169  0.450196                     1                    1\n",
       "2    91345945  0.450211                     0                    0"
      ]
     },
     "execution_count": 163,
     "metadata": {},
     "output_type": "execute_result"
    }
   ],
   "source": [
    "df1.head(3)"
   ]
  },
  {
   "cell_type": "code",
   "execution_count": 164,
   "id": "bba98b07",
   "metadata": {},
   "outputs": [],
   "source": [
    "df2 = df[['GOID', 'date', 'year']]"
   ]
  },
  {
   "cell_type": "code",
   "execution_count": 165,
   "id": "270d9cdf",
   "metadata": {},
   "outputs": [],
   "source": [
    "tune_df = df1.set_index('GOID').join(df2.set_index('GOID'), how = 'inner')"
   ]
  },
  {
   "cell_type": "code",
   "execution_count": 166,
   "id": "96f9fdd0",
   "metadata": {},
   "outputs": [],
   "source": [
    "tune_df = tune_df.dropna()"
   ]
  },
  {
   "cell_type": "code",
   "execution_count": 167,
   "id": "59e56fb2",
   "metadata": {},
   "outputs": [],
   "source": [
    "tune_df['Classification_cars'] = pd.to_numeric(tune_df['Classification_cars'])\n",
    "tune_df['Classification_broad'] = pd.to_numeric(tune_df['Classification_broad'])"
   ]
  },
  {
   "cell_type": "code",
   "execution_count": 168,
   "id": "c6acf81c",
   "metadata": {},
   "outputs": [],
   "source": [
    "tune_df['Classification_cars'] = tune_df['Classification_cars'].astype('int')"
   ]
  },
  {
   "cell_type": "code",
   "execution_count": 228,
   "id": "5a47b69d",
   "metadata": {},
   "outputs": [],
   "source": [
    "tune_df['class'] = np.where(tune_df['score'] > 0.482, 1, 0)"
   ]
  },
  {
   "cell_type": "code",
   "execution_count": 229,
   "id": "98b4a89d",
   "metadata": {},
   "outputs": [
    {
     "data": {
      "text/html": [
       "<div>\n",
       "<style scoped>\n",
       "    .dataframe tbody tr th:only-of-type {\n",
       "        vertical-align: middle;\n",
       "    }\n",
       "\n",
       "    .dataframe tbody tr th {\n",
       "        vertical-align: top;\n",
       "    }\n",
       "\n",
       "    .dataframe thead th {\n",
       "        text-align: right;\n",
       "    }\n",
       "</style>\n",
       "<table border=\"1\" class=\"dataframe\">\n",
       "  <thead>\n",
       "    <tr style=\"text-align: right;\">\n",
       "      <th></th>\n",
       "      <th>score</th>\n",
       "      <th>Classification_broad</th>\n",
       "      <th>Classification_cars</th>\n",
       "      <th>date</th>\n",
       "      <th>year</th>\n",
       "      <th>class</th>\n",
       "    </tr>\n",
       "    <tr>\n",
       "      <th>GOID</th>\n",
       "      <th></th>\n",
       "      <th></th>\n",
       "      <th></th>\n",
       "      <th></th>\n",
       "      <th></th>\n",
       "      <th></th>\n",
       "    </tr>\n",
       "  </thead>\n",
       "  <tbody>\n",
       "    <tr>\n",
       "      <th>113463667</th>\n",
       "      <td>0.450116</td>\n",
       "      <td>0</td>\n",
       "      <td>0</td>\n",
       "      <td>1955-01-03</td>\n",
       "      <td>1955</td>\n",
       "      <td>0</td>\n",
       "    </tr>\n",
       "    <tr>\n",
       "      <th>1815161169</th>\n",
       "      <td>0.450196</td>\n",
       "      <td>1</td>\n",
       "      <td>1</td>\n",
       "      <td>2013-11-24</td>\n",
       "      <td>2013</td>\n",
       "      <td>0</td>\n",
       "    </tr>\n",
       "    <tr>\n",
       "      <th>91345945</th>\n",
       "      <td>0.450211</td>\n",
       "      <td>0</td>\n",
       "      <td>0</td>\n",
       "      <td>2000-07-20</td>\n",
       "      <td>2000</td>\n",
       "      <td>0</td>\n",
       "    </tr>\n",
       "  </tbody>\n",
       "</table>\n",
       "</div>"
      ],
      "text/plain": [
       "               score  Classification_broad  Classification_cars       date  \\\n",
       "GOID                                                                         \n",
       "113463667   0.450116                     0                    0 1955-01-03   \n",
       "1815161169  0.450196                     1                    1 2013-11-24   \n",
       "91345945    0.450211                     0                    0 2000-07-20   \n",
       "\n",
       "            year  class  \n",
       "GOID                     \n",
       "113463667   1955      0  \n",
       "1815161169  2013      0  \n",
       "91345945    2000      0  "
      ]
     },
     "execution_count": 229,
     "metadata": {},
     "output_type": "execute_result"
    }
   ],
   "source": [
    "tune_df.head(3)"
   ]
  },
  {
   "cell_type": "code",
   "execution_count": 230,
   "id": "056ef94b",
   "metadata": {},
   "outputs": [],
   "source": [
    "report_cars_482 =pd.DataFrame(classification_report(tune_df['class'], tune_df['Classification_broad'], output_dict = True)).transpose()"
   ]
  },
  {
   "cell_type": "code",
   "execution_count": 231,
   "id": "2b63ea31",
   "metadata": {},
   "outputs": [],
   "source": [
    "report_cars_482.to_csv('/home/ec2-user/SageMaker/data/NYT-accuracy/20230824-classificationreport-cars.csv')"
   ]
  },
  {
   "cell_type": "code",
   "execution_count": 224,
   "id": "4f18934c",
   "metadata": {},
   "outputs": [],
   "source": [
    "x = []\n",
    "y = []\n",
    "for i in np.arange(0.45, 0.55, 0.001):\n",
    "    x.append(i)\n",
    "    tune_df['class'] = np.where(tune_df['score'] > i, 1, 0)\n",
    "    sc = accuracy_score(tune_df['Classification_cars'], tune_df['class'])\n",
    "    y.append(sc)\n",
    "    "
   ]
  },
  {
   "cell_type": "code",
   "execution_count": 225,
   "id": "f2a15f1c",
   "metadata": {},
   "outputs": [],
   "source": [
    "score_df_broad = pd.DataFrame({'cut-off':x, 'score':y})"
   ]
  },
  {
   "cell_type": "code",
   "execution_count": 226,
   "id": "e0ca3235",
   "metadata": {},
   "outputs": [
    {
     "data": {
      "text/html": [
       "<div>\n",
       "<style scoped>\n",
       "    .dataframe tbody tr th:only-of-type {\n",
       "        vertical-align: middle;\n",
       "    }\n",
       "\n",
       "    .dataframe tbody tr th {\n",
       "        vertical-align: top;\n",
       "    }\n",
       "\n",
       "    .dataframe thead th {\n",
       "        text-align: right;\n",
       "    }\n",
       "</style>\n",
       "<table border=\"1\" class=\"dataframe\">\n",
       "  <thead>\n",
       "    <tr style=\"text-align: right;\">\n",
       "      <th></th>\n",
       "      <th>cut-off</th>\n",
       "      <th>score</th>\n",
       "    </tr>\n",
       "  </thead>\n",
       "  <tbody>\n",
       "    <tr>\n",
       "      <th>0</th>\n",
       "      <td>0.462</td>\n",
       "      <td>0.531773</td>\n",
       "    </tr>\n",
       "    <tr>\n",
       "      <th>1</th>\n",
       "      <td>0.463</td>\n",
       "      <td>0.535117</td>\n",
       "    </tr>\n",
       "    <tr>\n",
       "      <th>2</th>\n",
       "      <td>0.464</td>\n",
       "      <td>0.548495</td>\n",
       "    </tr>\n",
       "    <tr>\n",
       "      <th>3</th>\n",
       "      <td>0.465</td>\n",
       "      <td>0.555184</td>\n",
       "    </tr>\n",
       "    <tr>\n",
       "      <th>83</th>\n",
       "      <td>0.545</td>\n",
       "      <td>0.565217</td>\n",
       "    </tr>\n",
       "    <tr>\n",
       "      <th>...</th>\n",
       "      <td>...</td>\n",
       "      <td>...</td>\n",
       "    </tr>\n",
       "    <tr>\n",
       "      <th>42</th>\n",
       "      <td>0.504</td>\n",
       "      <td>0.635452</td>\n",
       "    </tr>\n",
       "    <tr>\n",
       "      <th>22</th>\n",
       "      <td>0.484</td>\n",
       "      <td>0.638796</td>\n",
       "    </tr>\n",
       "    <tr>\n",
       "      <th>19</th>\n",
       "      <td>0.481</td>\n",
       "      <td>0.638796</td>\n",
       "    </tr>\n",
       "    <tr>\n",
       "      <th>21</th>\n",
       "      <td>0.483</td>\n",
       "      <td>0.642140</td>\n",
       "    </tr>\n",
       "    <tr>\n",
       "      <th>20</th>\n",
       "      <td>0.482</td>\n",
       "      <td>0.645485</td>\n",
       "    </tr>\n",
       "  </tbody>\n",
       "</table>\n",
       "<p>89 rows × 2 columns</p>\n",
       "</div>"
      ],
      "text/plain": [
       "    cut-off     score\n",
       "0     0.462  0.531773\n",
       "1     0.463  0.535117\n",
       "2     0.464  0.548495\n",
       "3     0.465  0.555184\n",
       "83    0.545  0.565217\n",
       "..      ...       ...\n",
       "42    0.504  0.635452\n",
       "22    0.484  0.638796\n",
       "19    0.481  0.638796\n",
       "21    0.483  0.642140\n",
       "20    0.482  0.645485\n",
       "\n",
       "[89 rows x 2 columns]"
      ]
     },
     "execution_count": 226,
     "metadata": {},
     "output_type": "execute_result"
    }
   ],
   "source": [
    "score_df_broad.sort_values(by='score')"
   ]
  },
  {
   "cell_type": "code",
   "execution_count": 227,
   "id": "672a7da8",
   "metadata": {},
   "outputs": [],
   "source": [
    "score_df_broad.to_csv('/home/ec2-user/SageMaker/data/NYT-accuracy/20230824-fuelefficiency-cars.csv')"
   ]
  },
  {
   "cell_type": "code",
   "execution_count": 173,
   "id": "d3cb586d",
   "metadata": {},
   "outputs": [],
   "source": [
    "tune_df['class'] = np.where(tune_df['score'] > 0.482, 1, 0)"
   ]
  },
  {
   "cell_type": "code",
   "execution_count": 131,
   "id": "6f758f8d",
   "metadata": {},
   "outputs": [],
   "source": [
    "df['class'] = np.where(df['score'] > 0.38, 1, 0)"
   ]
  },
  {
   "cell_type": "code",
   "execution_count": 132,
   "id": "ade0765b",
   "metadata": {},
   "outputs": [],
   "source": [
    "df['GOID'] = df['Unnamed: 0']"
   ]
  },
  {
   "cell_type": "code",
   "execution_count": 133,
   "id": "5f51a46a",
   "metadata": {},
   "outputs": [],
   "source": [
    "df['date'] = pd.to_datetime(df['date'])"
   ]
  },
  {
   "cell_type": "code",
   "execution_count": 134,
   "id": "d618131b",
   "metadata": {},
   "outputs": [
    {
     "data": {
      "text/plain": [
       "7230"
      ]
     },
     "execution_count": 134,
     "metadata": {},
     "output_type": "execute_result"
    }
   ],
   "source": [
    "len(df[df['class']==1])"
   ]
  },
  {
   "cell_type": "code",
   "execution_count": 135,
   "id": "ea6ffce5",
   "metadata": {},
   "outputs": [],
   "source": [
    "df_count = df.groupby([df['date'].dt.year.rename('year'), df['date'].dt.month.rename('month')]).agg({'score':'count', 'class': 'sum'})"
   ]
  },
  {
   "cell_type": "code",
   "execution_count": 136,
   "id": "4845555f",
   "metadata": {},
   "outputs": [
    {
     "data": {
      "text/html": [
       "<div>\n",
       "<style scoped>\n",
       "    .dataframe tbody tr th:only-of-type {\n",
       "        vertical-align: middle;\n",
       "    }\n",
       "\n",
       "    .dataframe tbody tr th {\n",
       "        vertical-align: top;\n",
       "    }\n",
       "\n",
       "    .dataframe thead th {\n",
       "        text-align: right;\n",
       "    }\n",
       "</style>\n",
       "<table border=\"1\" class=\"dataframe\">\n",
       "  <thead>\n",
       "    <tr style=\"text-align: right;\">\n",
       "      <th></th>\n",
       "      <th></th>\n",
       "      <th>score</th>\n",
       "      <th>class</th>\n",
       "    </tr>\n",
       "    <tr>\n",
       "      <th>year</th>\n",
       "      <th>month</th>\n",
       "      <th></th>\n",
       "      <th></th>\n",
       "    </tr>\n",
       "  </thead>\n",
       "  <tbody>\n",
       "    <tr>\n",
       "      <th rowspan=\"4\" valign=\"top\">1851</th>\n",
       "      <th>9</th>\n",
       "      <td>463</td>\n",
       "      <td>0</td>\n",
       "    </tr>\n",
       "    <tr>\n",
       "      <th>10</th>\n",
       "      <td>1504</td>\n",
       "      <td>0</td>\n",
       "    </tr>\n",
       "    <tr>\n",
       "      <th>11</th>\n",
       "      <td>1189</td>\n",
       "      <td>0</td>\n",
       "    </tr>\n",
       "    <tr>\n",
       "      <th>12</th>\n",
       "      <td>1074</td>\n",
       "      <td>0</td>\n",
       "    </tr>\n",
       "    <tr>\n",
       "      <th>1852</th>\n",
       "      <th>1</th>\n",
       "      <td>1193</td>\n",
       "      <td>0</td>\n",
       "    </tr>\n",
       "    <tr>\n",
       "      <th>...</th>\n",
       "      <th>...</th>\n",
       "      <td>...</td>\n",
       "      <td>...</td>\n",
       "    </tr>\n",
       "    <tr>\n",
       "      <th rowspan=\"5\" valign=\"top\">2019</th>\n",
       "      <th>8</th>\n",
       "      <td>2322</td>\n",
       "      <td>2</td>\n",
       "    </tr>\n",
       "    <tr>\n",
       "      <th>9</th>\n",
       "      <td>2847</td>\n",
       "      <td>0</td>\n",
       "    </tr>\n",
       "    <tr>\n",
       "      <th>10</th>\n",
       "      <td>2852</td>\n",
       "      <td>2</td>\n",
       "    </tr>\n",
       "    <tr>\n",
       "      <th>11</th>\n",
       "      <td>2755</td>\n",
       "      <td>2</td>\n",
       "    </tr>\n",
       "    <tr>\n",
       "      <th>12</th>\n",
       "      <td>2732</td>\n",
       "      <td>1</td>\n",
       "    </tr>\n",
       "  </tbody>\n",
       "</table>\n",
       "<p>2018 rows × 2 columns</p>\n",
       "</div>"
      ],
      "text/plain": [
       "            score  class\n",
       "year month              \n",
       "1851 9        463      0\n",
       "     10      1504      0\n",
       "     11      1189      0\n",
       "     12      1074      0\n",
       "1852 1       1193      0\n",
       "...           ...    ...\n",
       "2019 8       2322      2\n",
       "     9       2847      0\n",
       "     10      2852      2\n",
       "     11      2755      2\n",
       "     12      2732      1\n",
       "\n",
       "[2018 rows x 2 columns]"
      ]
     },
     "execution_count": 136,
     "metadata": {},
     "output_type": "execute_result"
    }
   ],
   "source": [
    "df_count"
   ]
  },
  {
   "cell_type": "code",
   "execution_count": 137,
   "id": "599dc32c",
   "metadata": {},
   "outputs": [],
   "source": [
    "df_count['normalize'] = df_count['class']/df_count['score']"
   ]
  },
  {
   "cell_type": "code",
   "execution_count": 138,
   "id": "81de7ab3",
   "metadata": {},
   "outputs": [
    {
     "data": {
      "text/html": [
       "<div>\n",
       "<style scoped>\n",
       "    .dataframe tbody tr th:only-of-type {\n",
       "        vertical-align: middle;\n",
       "    }\n",
       "\n",
       "    .dataframe tbody tr th {\n",
       "        vertical-align: top;\n",
       "    }\n",
       "\n",
       "    .dataframe thead th {\n",
       "        text-align: right;\n",
       "    }\n",
       "</style>\n",
       "<table border=\"1\" class=\"dataframe\">\n",
       "  <thead>\n",
       "    <tr style=\"text-align: right;\">\n",
       "      <th></th>\n",
       "      <th></th>\n",
       "      <th>score</th>\n",
       "      <th>class</th>\n",
       "      <th>normalize</th>\n",
       "    </tr>\n",
       "    <tr>\n",
       "      <th>year</th>\n",
       "      <th>month</th>\n",
       "      <th></th>\n",
       "      <th></th>\n",
       "      <th></th>\n",
       "    </tr>\n",
       "  </thead>\n",
       "  <tbody>\n",
       "    <tr>\n",
       "      <th rowspan=\"4\" valign=\"top\">1851</th>\n",
       "      <th>9</th>\n",
       "      <td>463</td>\n",
       "      <td>0</td>\n",
       "      <td>0.000000</td>\n",
       "    </tr>\n",
       "    <tr>\n",
       "      <th>10</th>\n",
       "      <td>1504</td>\n",
       "      <td>0</td>\n",
       "      <td>0.000000</td>\n",
       "    </tr>\n",
       "    <tr>\n",
       "      <th>11</th>\n",
       "      <td>1189</td>\n",
       "      <td>0</td>\n",
       "      <td>0.000000</td>\n",
       "    </tr>\n",
       "    <tr>\n",
       "      <th>12</th>\n",
       "      <td>1074</td>\n",
       "      <td>0</td>\n",
       "      <td>0.000000</td>\n",
       "    </tr>\n",
       "    <tr>\n",
       "      <th>1852</th>\n",
       "      <th>1</th>\n",
       "      <td>1193</td>\n",
       "      <td>0</td>\n",
       "      <td>0.000000</td>\n",
       "    </tr>\n",
       "    <tr>\n",
       "      <th>...</th>\n",
       "      <th>...</th>\n",
       "      <td>...</td>\n",
       "      <td>...</td>\n",
       "      <td>...</td>\n",
       "    </tr>\n",
       "    <tr>\n",
       "      <th rowspan=\"5\" valign=\"top\">2019</th>\n",
       "      <th>8</th>\n",
       "      <td>2322</td>\n",
       "      <td>2</td>\n",
       "      <td>0.000861</td>\n",
       "    </tr>\n",
       "    <tr>\n",
       "      <th>9</th>\n",
       "      <td>2847</td>\n",
       "      <td>0</td>\n",
       "      <td>0.000000</td>\n",
       "    </tr>\n",
       "    <tr>\n",
       "      <th>10</th>\n",
       "      <td>2852</td>\n",
       "      <td>2</td>\n",
       "      <td>0.000701</td>\n",
       "    </tr>\n",
       "    <tr>\n",
       "      <th>11</th>\n",
       "      <td>2755</td>\n",
       "      <td>2</td>\n",
       "      <td>0.000726</td>\n",
       "    </tr>\n",
       "    <tr>\n",
       "      <th>12</th>\n",
       "      <td>2732</td>\n",
       "      <td>1</td>\n",
       "      <td>0.000366</td>\n",
       "    </tr>\n",
       "  </tbody>\n",
       "</table>\n",
       "<p>2018 rows × 3 columns</p>\n",
       "</div>"
      ],
      "text/plain": [
       "            score  class  normalize\n",
       "year month                         \n",
       "1851 9        463      0   0.000000\n",
       "     10      1504      0   0.000000\n",
       "     11      1189      0   0.000000\n",
       "     12      1074      0   0.000000\n",
       "1852 1       1193      0   0.000000\n",
       "...           ...    ...        ...\n",
       "2019 8       2322      2   0.000861\n",
       "     9       2847      0   0.000000\n",
       "     10      2852      2   0.000701\n",
       "     11      2755      2   0.000726\n",
       "     12      2732      1   0.000366\n",
       "\n",
       "[2018 rows x 3 columns]"
      ]
     },
     "execution_count": 138,
     "metadata": {},
     "output_type": "execute_result"
    }
   ],
   "source": [
    "df_count"
   ]
  },
  {
   "cell_type": "code",
   "execution_count": 139,
   "id": "404ed732",
   "metadata": {},
   "outputs": [],
   "source": [
    "df_count.to_csv('/home/ec2-user/SageMaker/data/NYT_scores/2023-08-24-NYT-fuelefficiency_0.38-index-monthly.csv')"
   ]
  },
  {
   "cell_type": "code",
   "execution_count": 140,
   "id": "27dab434",
   "metadata": {},
   "outputs": [],
   "source": [
    "df_count = df_count.reset_index()"
   ]
  },
  {
   "cell_type": "code",
   "execution_count": 141,
   "id": "9d376874",
   "metadata": {},
   "outputs": [
    {
     "data": {
      "image/png": "[encoded data removed]",
      "text/plain": [
       "<Figure size 7200x3600 with 1 Axes>"
      ]
     },
     "metadata": {
      "needs_background": "light"
     },
     "output_type": "display_data"
    }
   ],
   "source": [
    "df_count['date']=df_count['month'].map(str)+'-'+df_count['year'].map(str)\n",
    "#fig, ax=plt.subplots()\n",
    "plt.figure(figsize=(100,50))\n",
    "plt.plot_date(df_count['date'],df_count['normalize'])\n",
    "plt.show()"
   ]
  },
  {
   "cell_type": "code",
   "execution_count": 142,
   "id": "1913b100",
   "metadata": {},
   "outputs": [],
   "source": [
    "df_count_Q = df.groupby([df['date'].dt.year.rename('year'), df['date'].dt.quarter.rename('quarter')]).agg({'score':'count', 'class': 'sum'})"
   ]
  },
  {
   "cell_type": "code",
   "execution_count": 143,
   "id": "44908bfd",
   "metadata": {},
   "outputs": [],
   "source": [
    "df_count_Q['normalize'] = df_count_Q['class']/df_count_Q['score']\n",
    "df_count_Q.to_csv('/home/ec2-user/SageMaker/data/NYT_scores/2023-08-24-NYT-fuelefficiency_0.38-index_quarter.csv')"
   ]
  },
  {
   "cell_type": "code",
   "execution_count": 130,
   "id": "d4b02986",
   "metadata": {},
   "outputs": [
    {
     "data": {
      "text/html": [
       "<div>\n",
       "<style scoped>\n",
       "    .dataframe tbody tr th:only-of-type {\n",
       "        vertical-align: middle;\n",
       "    }\n",
       "\n",
       "    .dataframe tbody tr th {\n",
       "        vertical-align: top;\n",
       "    }\n",
       "\n",
       "    .dataframe thead th {\n",
       "        text-align: right;\n",
       "    }\n",
       "</style>\n",
       "<table border=\"1\" class=\"dataframe\">\n",
       "  <thead>\n",
       "    <tr style=\"text-align: right;\">\n",
       "      <th></th>\n",
       "      <th></th>\n",
       "      <th>score</th>\n",
       "      <th>class</th>\n",
       "      <th>normalize</th>\n",
       "    </tr>\n",
       "    <tr>\n",
       "      <th>year</th>\n",
       "      <th>quarter</th>\n",
       "      <th></th>\n",
       "      <th></th>\n",
       "      <th></th>\n",
       "    </tr>\n",
       "  </thead>\n",
       "  <tbody>\n",
       "    <tr>\n",
       "      <th rowspan=\"2\" valign=\"top\">1851</th>\n",
       "      <th>3</th>\n",
       "      <td>463</td>\n",
       "      <td>0</td>\n",
       "      <td>0.000000</td>\n",
       "    </tr>\n",
       "    <tr>\n",
       "      <th>4</th>\n",
       "      <td>3767</td>\n",
       "      <td>0</td>\n",
       "      <td>0.000000</td>\n",
       "    </tr>\n",
       "    <tr>\n",
       "      <th rowspan=\"3\" valign=\"top\">1852</th>\n",
       "      <th>1</th>\n",
       "      <td>3283</td>\n",
       "      <td>0</td>\n",
       "      <td>0.000000</td>\n",
       "    </tr>\n",
       "    <tr>\n",
       "      <th>2</th>\n",
       "      <td>2906</td>\n",
       "      <td>0</td>\n",
       "      <td>0.000000</td>\n",
       "    </tr>\n",
       "    <tr>\n",
       "      <th>3</th>\n",
       "      <td>3563</td>\n",
       "      <td>0</td>\n",
       "      <td>0.000000</td>\n",
       "    </tr>\n",
       "    <tr>\n",
       "      <th>...</th>\n",
       "      <th>...</th>\n",
       "      <td>...</td>\n",
       "      <td>...</td>\n",
       "      <td>...</td>\n",
       "    </tr>\n",
       "    <tr>\n",
       "      <th>2018</th>\n",
       "      <th>4</th>\n",
       "      <td>8500</td>\n",
       "      <td>0</td>\n",
       "      <td>0.000000</td>\n",
       "    </tr>\n",
       "    <tr>\n",
       "      <th rowspan=\"4\" valign=\"top\">2019</th>\n",
       "      <th>1</th>\n",
       "      <td>8087</td>\n",
       "      <td>1</td>\n",
       "      <td>0.000124</td>\n",
       "    </tr>\n",
       "    <tr>\n",
       "      <th>2</th>\n",
       "      <td>8171</td>\n",
       "      <td>0</td>\n",
       "      <td>0.000000</td>\n",
       "    </tr>\n",
       "    <tr>\n",
       "      <th>3</th>\n",
       "      <td>7785</td>\n",
       "      <td>1</td>\n",
       "      <td>0.000128</td>\n",
       "    </tr>\n",
       "    <tr>\n",
       "      <th>4</th>\n",
       "      <td>8339</td>\n",
       "      <td>1</td>\n",
       "      <td>0.000120</td>\n",
       "    </tr>\n",
       "  </tbody>\n",
       "</table>\n",
       "<p>674 rows × 3 columns</p>\n",
       "</div>"
      ],
      "text/plain": [
       "              score  class  normalize\n",
       "year quarter                         \n",
       "1851 3          463      0   0.000000\n",
       "     4         3767      0   0.000000\n",
       "1852 1         3283      0   0.000000\n",
       "     2         2906      0   0.000000\n",
       "     3         3563      0   0.000000\n",
       "...             ...    ...        ...\n",
       "2018 4         8500      0   0.000000\n",
       "2019 1         8087      1   0.000124\n",
       "     2         8171      0   0.000000\n",
       "     3         7785      1   0.000128\n",
       "     4         8339      1   0.000120\n",
       "\n",
       "[674 rows x 3 columns]"
      ]
     },
     "execution_count": 130,
     "metadata": {},
     "output_type": "execute_result"
    }
   ],
   "source": [
    "df_count_Q"
   ]
  },
  {
   "cell_type": "code",
   "execution_count": null,
   "id": "e69a174b",
   "metadata": {},
   "outputs": [],
   "source": [
    "df_count_Q = df_count_Q.reset_index()\n",
    "df_count_Q['date']=df_count_Q['quarter'].map(str)+'-'+df_count_Q['year'].map(str)\n",
    "#fig, ax=plt.subplots()\n",
    "plt.figure(figsize=(100,50))\n",
    "plt.plot_date(df_count_Q['date'],df_count_Q['normalize'])\n",
    "plt.show()"
   ]
  },
  {
   "cell_type": "code",
   "execution_count": null,
   "id": "99619eb4",
   "metadata": {},
   "outputs": [],
   "source": [
    "df.head(3)"
   ]
  },
  {
   "cell_type": "code",
   "execution_count": null,
   "id": "ea66acb0",
   "metadata": {},
   "outputs": [],
   "source": [
    "lst = df.loc[(df['score'] >= 0.20) & (df['score'] <= 0.21)]"
   ]
  },
  {
   "cell_type": "code",
   "execution_count": null,
   "id": "3fa8e010",
   "metadata": {},
   "outputs": [],
   "source": [
    "lst"
   ]
  },
  {
   "cell_type": "code",
   "execution_count": null,
   "id": "6345d6ed",
   "metadata": {},
   "outputs": [],
   "source": []
  }
 ],
 "metadata": {
  "kernelspec": {
   "display_name": "conda_python3",
   "language": "python",
   "name": "conda_python3"
  },
  "language_info": {
   "codemirror_mode": {
    "name": "ipython",
    "version": 3
   },
   "file_extension": ".py",
   "mimetype": "text/x-python",
   "name": "python",
   "nbconvert_exporter": "python",
   "pygments_lexer": "ipython3",
   "version": "3.6.13"
  }
 },
 "nbformat": 4,
 "nbformat_minor": 5
}
