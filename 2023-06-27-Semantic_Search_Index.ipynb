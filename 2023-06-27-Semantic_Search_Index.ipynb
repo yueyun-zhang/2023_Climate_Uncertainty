{
 "cells": [
  {
   "cell_type": "code",
   "execution_count": 2,
   "id": "202e45d7",
   "metadata": {},
   "outputs": [],
   "source": [
    "import pandas as pd"
   ]
  },
  {
   "cell_type": "code",
   "execution_count": 3,
   "id": "382622c2",
   "metadata": {},
   "outputs": [],
   "source": [
    "df = pd.read_csv('/home/ec2-user/SageMaker/data/all_18501899.csv')"
   ]
  },
  {
   "cell_type": "code",
   "execution_count": 4,
   "id": "2c931c69",
   "metadata": {},
   "outputs": [
    {
     "data": {
      "text/plain": [
       "1295300"
      ]
     },
     "execution_count": 4,
     "metadata": {},
     "output_type": "execute_result"
    }
   ],
   "source": [
    "len(df) #Total number should be #11268220"
   ]
  },
  {
   "cell_type": "code",
   "execution_count": 7,
   "id": "607fd611",
   "metadata": {},
   "outputs": [],
   "source": [
    "import sentence_transformers\n",
    "from sentence_transformers import SentenceTransformer, util\n",
    "import torch\n",
    "import pandas as pd\n",
    "\n",
    "embedder = SentenceTransformer('/home/ec2-user/SageMaker/all-MiniLM-L12-v2')"
   ]
  },
  {
   "cell_type": "code",
   "execution_count": 8,
   "id": "4019588a",
   "metadata": {},
   "outputs": [],
   "source": [
    "lst =df['Title'] +df['Text']"
   ]
  },
  {
   "cell_type": "code",
   "execution_count": null,
   "id": "0e2386d1",
   "metadata": {},
   "outputs": [],
   "source": [
    "tensor_18501899 = embedder.encode(lst, convert_to_tensor=True)"
   ]
  },
  {
   "cell_type": "code",
   "execution_count": null,
   "id": "3ae6d71f",
   "metadata": {},
   "outputs": [],
   "source": [
    "torch.save(tensor_18501899, '/home/ec2-user/SageMaker/data/tensor_18501899.pt')"
   ]
  },
  {
   "cell_type": "code",
   "execution_count": null,
   "id": "0c3e4d4c",
   "metadata": {},
   "outputs": [],
   "source": []
  }
 ],
 "metadata": {
  "kernelspec": {
   "display_name": "sample-2022.05.25",
   "language": "python",
   "name": "sample-2022.05.25"
  },
  "language_info": {
   "codemirror_mode": {
    "name": "ipython",
    "version": 3
   },
   "file_extension": ".py",
   "mimetype": "text/x-python",
   "name": "python",
   "nbconvert_exporter": "python",
   "pygments_lexer": "ipython3",
   "version": "3.9.10"
  }
 },
 "nbformat": 4,
 "nbformat_minor": 5
}
