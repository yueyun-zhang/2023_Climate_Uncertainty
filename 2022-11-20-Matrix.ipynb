{
 "cells": [
  {
   "cell_type": "code",
   "execution_count": 1,
   "id": "14a3b242",
   "metadata": {},
   "outputs": [],
   "source": [
    "from lxml import etree\n",
    "from bs4 import BeautifulSoup\n",
    "import pandas as pd\n",
    "import os\n",
    "# Library for plotting data\n",
    "import matplotlib.pyplot as plt"
   ]
  },
  {
   "cell_type": "code",
   "execution_count": 2,
   "id": "6b79d6f8",
   "metadata": {},
   "outputs": [],
   "source": [
    "# Set corpus to the folder of files you want to use\n",
    "corpus = '/home/ec2-user/SageMaker/data/2022-10-30-NYTALL20112018/'\n",
    "\n",
    "# Read in files\n",
    "input_files = os.listdir(corpus)"
   ]
  },
  {
   "cell_type": "code",
   "execution_count": 3,
   "id": "462d4a8c",
   "metadata": {},
   "outputs": [],
   "source": [
    "# Function to strip html tags from text portion\n",
    "def strip_html_tags(text):\n",
    "    stripped = BeautifulSoup(text).get_text().replace('\\n', ' ').replace('\\\\', '').strip()\n",
    "    return stripped"
   ]
  },
  {
   "cell_type": "code",
   "execution_count": 4,
   "id": "659a9e14",
   "metadata": {},
   "outputs": [],
   "source": [
    "def getxmlcontent(corpus, file, strip_html=True):\n",
    "    try:\n",
    "        tree = etree.parse(corpus + file)\n",
    "        root = tree.getroot()\n",
    "\n",
    "        if root.find('.//GOID') is not None:\n",
    "            goid = root.find('.//GOID').text\n",
    "        else:\n",
    "            goid = None\n",
    "\n",
    "        if root.find('.//Title') is not None:\n",
    "            title = root.find('.//Title').text\n",
    "        else:\n",
    "            title = None\n",
    "\n",
    "        if root.find('.//NumericDate') is not None:\n",
    "            date = root.find('.//NumericDate').text\n",
    "        else:\n",
    "            date = None\n",
    "            \n",
    "        if root.find('.//PublisherName') is not None:\n",
    "            publisher = root.find('.//PublisherName').text\n",
    "        else:\n",
    "            publisher = None\n",
    "\n",
    "        if root.find('.//FullText') is not None:\n",
    "            text = root.find('.//FullText').text\n",
    "\n",
    "        elif root.find('.//HiddenText') is not None:\n",
    "            text = root.find('.//HiddenText').text\n",
    "\n",
    "        elif root.find('.//Text') is not None:\n",
    "            text = root.find('.//Text').text\n",
    "\n",
    "        else:\n",
    "            text = None\n",
    "\n",
    "        # Strip html from text portion\n",
    "        if text is not None and strip_html == True:\n",
    "            text = strip_html_tags(text)\n",
    "    \n",
    "    except Exception as e:\n",
    "        print(f\"Error while parsing file {file}: {e}\")\n",
    "    \n",
    "    return goid, title, date, publisher, text"
   ]
  },
  {
   "cell_type": "code",
   "execution_count": 5,
   "id": "6f7d3980",
   "metadata": {},
   "outputs": [],
   "source": [
    "# Columns lists\n",
    "goid_list = []\n",
    "publisher_list = []\n",
    "text_list = []\n",
    "date_list = []\n",
    "\n",
    "# Used for grouping by publisher\n",
    "publishers = []\n",
    "\n",
    "for file in input_files:\n",
    "    \n",
    "    goid, title, date, publisher, text = getxmlcontent(corpus, file, strip_html=True)\n",
    "    \n",
    "    goid_list.append(goid)\n",
    "    publisher_list.append(publisher)\n",
    "    text_list.append(text)\n",
    "    date_list.append(date)"
   ]
  },
  {
   "cell_type": "code",
   "execution_count": 6,
   "id": "68fb165b",
   "metadata": {},
   "outputs": [],
   "source": [
    "# Transform processed data into a dataframe\n",
    "df = pd.DataFrame({'GOID': goid_list, 'Publisher': publisher_list, 'Text': text_list, 'Date': date_list})"
   ]
  },
  {
   "cell_type": "code",
   "execution_count": 7,
   "id": "4fad838e",
   "metadata": {},
   "outputs": [],
   "source": [
    "new_df = df[['Text', 'Date']]"
   ]
  },
  {
   "cell_type": "code",
   "execution_count": 8,
   "id": "73941e4f",
   "metadata": {},
   "outputs": [],
   "source": [
    "new_df = new_df.dropna()\n",
    "x = new_df['Text']\n",
    "x1 = new_df['Date']"
   ]
  },
  {
   "cell_type": "code",
   "execution_count": 9,
   "id": "b5cd74c8",
   "metadata": {},
   "outputs": [],
   "source": [
    "import sklearn\n",
    "from sklearn.feature_extraction.text import CountVectorizer\n",
    "transformer = CountVectorizer(strip_accents='ascii', binary=True, lowercase=True, stop_words='english')"
   ]
  },
  {
   "cell_type": "code",
   "execution_count": 10,
   "id": "baabf7ba",
   "metadata": {},
   "outputs": [],
   "source": [
    "transform_ma_sparse = transformer.fit_transform(x)"
   ]
  },
  {
   "cell_type": "code",
   "execution_count": 11,
   "id": "76ffe56a",
   "metadata": {},
   "outputs": [],
   "source": [
    "transform_df = pd.DataFrame.sparse.from_spmatrix(transform_ma_sparse, columns = transformer.get_feature_names())"
   ]
  },
  {
   "cell_type": "code",
   "execution_count": 12,
   "id": "787dad63",
   "metadata": {},
   "outputs": [],
   "source": [
    "transform_df.insert(0, 'Date', x1)\n",
    "transform_df = transform_df.set_index('Date')"
   ]
  },
  {
   "cell_type": "code",
   "execution_count": 16,
   "id": "564611d8",
   "metadata": {},
   "outputs": [],
   "source": [
    "transform_df1 = transform_df.filter(regex=r'^econom[iy]').reset_index()"
   ]
  },
  {
   "cell_type": "code",
   "execution_count": 17,
   "id": "d813360a",
   "metadata": {},
   "outputs": [],
   "source": [
    "transform_df1.to_csv('/home/ec2-user/SageMaker/data/test.csv')"
   ]
  },
  {
   "cell_type": "code",
   "execution_count": 19,
   "id": "52ddf8f6",
   "metadata": {},
   "outputs": [
    {
     "data": {
      "text/html": [
       "<div>\n",
       "<style scoped>\n",
       "    .dataframe tbody tr th:only-of-type {\n",
       "        vertical-align: middle;\n",
       "    }\n",
       "\n",
       "    .dataframe tbody tr th {\n",
       "        vertical-align: top;\n",
       "    }\n",
       "\n",
       "    .dataframe thead th {\n",
       "        text-align: right;\n",
       "    }\n",
       "</style>\n",
       "<table border=\"1\" class=\"dataframe\">\n",
       "  <thead>\n",
       "    <tr style=\"text-align: right;\">\n",
       "      <th></th>\n",
       "      <th>Date</th>\n",
       "      <th>economi</th>\n",
       "      <th>economia</th>\n",
       "      <th>economic</th>\n",
       "      <th>economica</th>\n",
       "      <th>economicac</th>\n",
       "      <th>economical</th>\n",
       "      <th>economically</th>\n",
       "      <th>economicand</th>\n",
       "      <th>economicas</th>\n",
       "      <th>...</th>\n",
       "      <th>economistshavelongadvocatedthisasawaytoensure</th>\n",
       "      <th>economix</th>\n",
       "      <th>economize</th>\n",
       "      <th>economized</th>\n",
       "      <th>economizers</th>\n",
       "      <th>economizes</th>\n",
       "      <th>economizing</th>\n",
       "      <th>economy</th>\n",
       "      <th>economymartino</th>\n",
       "      <th>economywide</th>\n",
       "    </tr>\n",
       "  </thead>\n",
       "  <tbody>\n",
       "    <tr>\n",
       "      <th>0</th>\n",
       "      <td>2017-02-05</td>\n",
       "      <td>0</td>\n",
       "      <td>0</td>\n",
       "      <td>0</td>\n",
       "      <td>0</td>\n",
       "      <td>0</td>\n",
       "      <td>0</td>\n",
       "      <td>0</td>\n",
       "      <td>0</td>\n",
       "      <td>0</td>\n",
       "      <td>...</td>\n",
       "      <td>0</td>\n",
       "      <td>0</td>\n",
       "      <td>0</td>\n",
       "      <td>0</td>\n",
       "      <td>0</td>\n",
       "      <td>0</td>\n",
       "      <td>0</td>\n",
       "      <td>0</td>\n",
       "      <td>0</td>\n",
       "      <td>0</td>\n",
       "    </tr>\n",
       "    <tr>\n",
       "      <th>1</th>\n",
       "      <td>2015-04-11</td>\n",
       "      <td>0</td>\n",
       "      <td>0</td>\n",
       "      <td>0</td>\n",
       "      <td>0</td>\n",
       "      <td>0</td>\n",
       "      <td>0</td>\n",
       "      <td>0</td>\n",
       "      <td>0</td>\n",
       "      <td>0</td>\n",
       "      <td>...</td>\n",
       "      <td>0</td>\n",
       "      <td>0</td>\n",
       "      <td>0</td>\n",
       "      <td>0</td>\n",
       "      <td>0</td>\n",
       "      <td>0</td>\n",
       "      <td>0</td>\n",
       "      <td>0</td>\n",
       "      <td>0</td>\n",
       "      <td>0</td>\n",
       "    </tr>\n",
       "    <tr>\n",
       "      <th>2</th>\n",
       "      <td>2015-05-20</td>\n",
       "      <td>0</td>\n",
       "      <td>0</td>\n",
       "      <td>0</td>\n",
       "      <td>0</td>\n",
       "      <td>0</td>\n",
       "      <td>0</td>\n",
       "      <td>0</td>\n",
       "      <td>0</td>\n",
       "      <td>0</td>\n",
       "      <td>...</td>\n",
       "      <td>0</td>\n",
       "      <td>0</td>\n",
       "      <td>0</td>\n",
       "      <td>0</td>\n",
       "      <td>0</td>\n",
       "      <td>0</td>\n",
       "      <td>0</td>\n",
       "      <td>0</td>\n",
       "      <td>0</td>\n",
       "      <td>0</td>\n",
       "    </tr>\n",
       "  </tbody>\n",
       "</table>\n",
       "<p>3 rows × 51 columns</p>\n",
       "</div>"
      ],
      "text/plain": [
       "         Date  economi  economia  economic  economica  economicac  economical  \\\n",
       "0  2017-02-05        0         0         0          0           0           0   \n",
       "1  2015-04-11        0         0         0          0           0           0   \n",
       "2  2015-05-20        0         0         0          0           0           0   \n",
       "\n",
       "   economically  economicand  economicas  ...  \\\n",
       "0             0            0           0  ...   \n",
       "1             0            0           0  ...   \n",
       "2             0            0           0  ...   \n",
       "\n",
       "   economistshavelongadvocatedthisasawaytoensure  economix  economize  \\\n",
       "0                                              0         0          0   \n",
       "1                                              0         0          0   \n",
       "2                                              0         0          0   \n",
       "\n",
       "   economized  economizers  economizes  economizing  economy  economymartino  \\\n",
       "0           0            0           0            0        0               0   \n",
       "1           0            0           0            0        0               0   \n",
       "2           0            0           0            0        0               0   \n",
       "\n",
       "   economywide  \n",
       "0            0  \n",
       "1            0  \n",
       "2            0  \n",
       "\n",
       "[3 rows x 51 columns]"
      ]
     },
     "execution_count": 19,
     "metadata": {},
     "output_type": "execute_result"
    }
   ],
   "source": [
    "transform_df1.head(3)"
   ]
  },
  {
   "cell_type": "code",
   "execution_count": null,
   "id": "8be5081f",
   "metadata": {},
   "outputs": [],
   "source": []
  }
 ],
 "metadata": {
  "kernelspec": {
   "display_name": "conda_python3",
   "language": "python",
   "name": "conda_python3"
  },
  "language_info": {
   "codemirror_mode": {
    "name": "ipython",
    "version": 3
   },
   "file_extension": ".py",
   "mimetype": "text/x-python",
   "name": "python",
   "nbconvert_exporter": "python",
   "pygments_lexer": "ipython3",
   "version": "3.6.13"
  }
 },
 "nbformat": 4,
 "nbformat_minor": 5
}
