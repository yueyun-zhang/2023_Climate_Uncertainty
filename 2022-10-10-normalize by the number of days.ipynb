{
 "cells": [
  {
   "cell_type": "markdown",
   "id": "9a6ca611",
   "metadata": {},
   "source": [
    "### Forth script - normalize the counts by the number of days in a month"
   ]
  },
  {
   "cell_type": "code",
   "execution_count": 18,
   "id": "ee6f56b4",
   "metadata": {},
   "outputs": [],
   "source": [
    "# Libraries for parsing data\n",
    "from lxml import etree\n",
    "from bs4 import BeautifulSoup\n",
    "import pandas as pd\n",
    "import os\n",
    "\n",
    "# Library for plotting data\n",
    "import matplotlib.pyplot as plt"
   ]
  },
  {
   "cell_type": "code",
   "execution_count": 19,
   "id": "f481a5a6",
   "metadata": {},
   "outputs": [],
   "source": [
    "df = pd.read_csv('/home/ec2-user/SageMaker/data/2023-06-18-export_newsample/2023-06-22-newsample_3_rawcount.csv')"
   ]
  },
  {
   "cell_type": "code",
   "execution_count": 20,
   "id": "4e1a0037",
   "metadata": {},
   "outputs": [],
   "source": [
    "df['yearmonth'] = df[['year','month']].apply(lambda x: '-'.join(x.values.astype(str)), axis='columns')\n",
    "df['yearmonth'] = pd.to_datetime(df['yearmonth'])\n",
    "df = df.set_index(df['yearmonth'])\n",
    "df = df.drop(['year','month','yearmonth'], axis='columns')\n",
    "df = df.sort_index()"
   ]
  },
  {
   "cell_type": "code",
   "execution_count": 21,
   "id": "d13da491",
   "metadata": {},
   "outputs": [
    {
     "data": {
      "text/html": [
       "<div>\n",
       "<style scoped>\n",
       "    .dataframe tbody tr th:only-of-type {\n",
       "        vertical-align: middle;\n",
       "    }\n",
       "\n",
       "    .dataframe tbody tr th {\n",
       "        vertical-align: top;\n",
       "    }\n",
       "\n",
       "    .dataframe thead th {\n",
       "        text-align: right;\n",
       "    }\n",
       "</style>\n",
       "<table border=\"1\" class=\"dataframe\">\n",
       "  <thead>\n",
       "    <tr style=\"text-align: right;\">\n",
       "      <th></th>\n",
       "      <th>count</th>\n",
       "    </tr>\n",
       "    <tr>\n",
       "      <th>yearmonth</th>\n",
       "      <th></th>\n",
       "    </tr>\n",
       "  </thead>\n",
       "  <tbody>\n",
       "    <tr>\n",
       "      <th>1851-10-01</th>\n",
       "      <td>1</td>\n",
       "    </tr>\n",
       "    <tr>\n",
       "      <th>1853-07-01</th>\n",
       "      <td>1</td>\n",
       "    </tr>\n",
       "    <tr>\n",
       "      <th>1855-10-01</th>\n",
       "      <td>1</td>\n",
       "    </tr>\n",
       "    <tr>\n",
       "      <th>1866-04-01</th>\n",
       "      <td>1</td>\n",
       "    </tr>\n",
       "    <tr>\n",
       "      <th>1879-04-01</th>\n",
       "      <td>1</td>\n",
       "    </tr>\n",
       "    <tr>\n",
       "      <th>...</th>\n",
       "      <td>...</td>\n",
       "    </tr>\n",
       "    <tr>\n",
       "      <th>2019-08-01</th>\n",
       "      <td>8</td>\n",
       "    </tr>\n",
       "    <tr>\n",
       "      <th>2019-09-01</th>\n",
       "      <td>14</td>\n",
       "    </tr>\n",
       "    <tr>\n",
       "      <th>2019-10-01</th>\n",
       "      <td>7</td>\n",
       "    </tr>\n",
       "    <tr>\n",
       "      <th>2019-11-01</th>\n",
       "      <td>5</td>\n",
       "    </tr>\n",
       "    <tr>\n",
       "      <th>2019-12-01</th>\n",
       "      <td>3</td>\n",
       "    </tr>\n",
       "  </tbody>\n",
       "</table>\n",
       "<p>1111 rows × 1 columns</p>\n",
       "</div>"
      ],
      "text/plain": [
       "            count\n",
       "yearmonth        \n",
       "1851-10-01      1\n",
       "1853-07-01      1\n",
       "1855-10-01      1\n",
       "1866-04-01      1\n",
       "1879-04-01      1\n",
       "...           ...\n",
       "2019-08-01      8\n",
       "2019-09-01     14\n",
       "2019-10-01      7\n",
       "2019-11-01      5\n",
       "2019-12-01      3\n",
       "\n",
       "[1111 rows x 1 columns]"
      ]
     },
     "execution_count": 21,
     "metadata": {},
     "output_type": "execute_result"
    }
   ],
   "source": [
    "df"
   ]
  },
  {
   "cell_type": "code",
   "execution_count": 22,
   "id": "9f09134a",
   "metadata": {},
   "outputs": [],
   "source": [
    "df['nb_days'] = df.index + pd.DateOffset(months=1) - df.index\n",
    "df['normalized_by_days'] = df['count']/df['nb_days'].dt.days\n",
    "df = df['normalized_by_days']"
   ]
  },
  {
   "cell_type": "code",
   "execution_count": 23,
   "id": "8949c0e0",
   "metadata": {},
   "outputs": [
    {
     "data": {
      "text/plain": [
       "yearmonth\n",
       "1851-10-01    0.032258\n",
       "1853-07-01    0.032258\n",
       "1855-10-01    0.032258\n",
       "1866-04-01    0.033333\n",
       "1879-04-01    0.033333\n",
       "                ...   \n",
       "2019-08-01    0.258065\n",
       "2019-09-01    0.466667\n",
       "2019-10-01    0.225806\n",
       "2019-11-01    0.166667\n",
       "2019-12-01    0.096774\n",
       "Name: normalized_by_days, Length: 1111, dtype: float64"
      ]
     },
     "execution_count": 23,
     "metadata": {},
     "output_type": "execute_result"
    }
   ],
   "source": [
    "df"
   ]
  },
  {
   "cell_type": "code",
   "execution_count": 24,
   "id": "ded2757d",
   "metadata": {},
   "outputs": [],
   "source": [
    "df.to_csv(\"/home/ec2-user/SageMaker/data/2023-06-18-export_newsample/2023-06-22-newsample_3_bydays.csv\")"
   ]
  },
  {
   "cell_type": "code",
   "execution_count": null,
   "id": "b5d52dd2",
   "metadata": {},
   "outputs": [],
   "source": []
  }
 ],
 "metadata": {
  "kernelspec": {
   "display_name": "conda_python3",
   "language": "python",
   "name": "conda_python3"
  },
  "language_info": {
   "codemirror_mode": {
    "name": "ipython",
    "version": 3
   },
   "file_extension": ".py",
   "mimetype": "text/x-python",
   "name": "python",
   "nbconvert_exporter": "python",
   "pygments_lexer": "ipython3",
   "version": "3.6.13"
  }
 },
 "nbformat": 4,
 "nbformat_minor": 5
}
