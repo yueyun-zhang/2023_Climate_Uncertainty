{
 "cells": [
  {
   "cell_type": "markdown",
   "id": "3ea9844e",
   "metadata": {},
   "source": [
    "# Build Index"
   ]
  },
  {
   "cell_type": "code",
   "execution_count": 3,
   "id": "1a1412b6",
   "metadata": {},
   "outputs": [],
   "source": [
    "import pandas as pd\n",
    "# Set corpus to the folder of files you want to use\n",
    "df = pd.read_csv('/home/ec2-user/SageMaker/data/NYT-all_content.csv')"
   ]
  },
  {
   "cell_type": "markdown",
   "id": "ef07faff",
   "metadata": {},
   "source": [
    "### 1. Load GOIDS"
   ]
  },
  {
   "cell_type": "code",
   "execution_count": 4,
   "id": "117c04a1",
   "metadata": {},
   "outputs": [],
   "source": [
    "goid = df['GOID'].to_list()\n",
    "title = df['Title'].to_list()\n",
    "text = df['Text'].to_list()\n",
    "date = df['Date'].to_list()"
   ]
  },
  {
   "cell_type": "markdown",
   "id": "90893ef7",
   "metadata": {},
   "source": [
    "### 2. Load corpus tensors"
   ]
  },
  {
   "cell_type": "code",
   "execution_count": 5,
   "id": "56b793dc",
   "metadata": {},
   "outputs": [
    {
     "name": "stderr",
     "output_type": "stream",
     "text": [
      "/home/ec2-user/SageMaker/.conda/envs/sample-2022.05.25/lib/python3.9/site-packages/tqdm/auto.py:22: TqdmWarning: IProgress not found. Please update jupyter and ipywidgets. See https://ipywidgets.readthedocs.io/en/stable/user_install.html\n",
      "  from .autonotebook import tqdm as notebook_tqdm\n"
     ]
    }
   ],
   "source": [
    "import sentence_transformers\n",
    "from sentence_transformers import SentenceTransformer, util\n",
    "import torch\n",
    "import pandas as pd\n",
    "\n",
    "embedder = SentenceTransformer('/home/ec2-user/SageMaker/all-MiniLM-L12-v2')"
   ]
  },
  {
   "cell_type": "code",
   "execution_count": 6,
   "id": "056727f6",
   "metadata": {},
   "outputs": [],
   "source": [
    "def gen_df(i, j, query):\n",
    "    \n",
    "    for idx in range(i,j):\n",
    "    \n",
    "        filename = '/home/ec2-user/SageMaker/data/NYT_tensor/tensor' + str(idx) + '.pt'\n",
    "    \n",
    "        if idx==i:\n",
    "            corpus_embedding  = torch.load(filename)\n",
    "        else: \n",
    "            corpus_embedding = torch.concat((corpus_embedding, torch.load(filename)), 0)\n",
    "    print(corpus_embedding.size())\n",
    "    query_embedding = embedder.encode(query, convert_to_tensor=True)\n",
    "    cos_scores = util.cos_sim(query_embedding, corpus_embedding)[0]\n",
    "    print(cos_scores.size())\n",
    "    i = i*100000\n",
    "    j = j*100000\n",
    "    #if j==12:\n",
    "    #    j=12*100000\n",
    "    df = pd.DataFrame(list(zip(title[i:j], text[i:j], date[i:j], cos_scores.tolist())), columns = ['title', 'text', 'date', 'score'], index = goid[i:j])\n",
    "    #df = pd.DataFrame(list(zip(title[i:], text[i:], date[i:], cos_scores.tolist())), columns = ['title', 'text', 'date', 'score'], index = goid[i:])\n",
    "    #else:\n",
    "    #    j = j*100000\n",
    "    #    df = pd.DataFrame(list(zip(title[i:j], text[i:j], date[i:j], cos_scores.tolist())), columns = ['title', 'text', 'date', 'score'], index = goid[i:j])\n",
    "    print(len(df))\n",
    "    return df"
   ]
  },
  {
   "cell_type": "code",
   "execution_count": 7,
   "id": "804c262c",
   "metadata": {},
   "outputs": [
    {
     "name": "stdout",
     "output_type": "stream",
     "text": [
      "torch.Size([3000000, 384])\n",
      "torch.Size([3000000])\n",
      "3000000\n",
      "torch.Size([3000000, 384])\n",
      "torch.Size([3000000])\n",
      "3000000\n",
      "torch.Size([3000000, 384])\n",
      "torch.Size([3000000])\n",
      "3000000\n"
     ]
    }
   ],
   "source": [
    "#%timeit\n",
    "query = 'greener vehicles' #car fuel efficiency #improvement, innovation and advancement in fuel efficiency #\n",
    "#df = gen_df(0, 124, query)\n",
    "df1 = gen_df(0,30, query)\n",
    "df2 = gen_df(30,60, query)\n",
    "df3 = gen_df(60,90, query)\n",
    "#df4 = gen_df(90, 124, query)"
   ]
  },
  {
   "cell_type": "code",
   "execution_count": 8,
   "id": "098b39b9",
   "metadata": {},
   "outputs": [
    {
     "name": "stdout",
     "output_type": "stream",
     "text": [
      "torch.Size([3316207, 384])\n",
      "torch.Size([3316207])\n",
      "3316207\n"
     ]
    }
   ],
   "source": [
    "df4 = gen_df(90, 124, query)"
   ]
  },
  {
   "cell_type": "code",
   "execution_count": 10,
   "id": "da4249eb",
   "metadata": {},
   "outputs": [],
   "source": [
    "df_f = pd.concat([df1, df2, df3, df4])\n",
    "df_f = df_f.drop_duplicates(subset='text', keep=\"first\")\n",
    "df_f.to_csv('/home/ec2-user/SageMaker/data/NYT_scores/2023-08-16-NYT-greenervehicles_score.csv')"
   ]
  },
  {
   "cell_type": "code",
   "execution_count": 11,
   "id": "f53f23b1",
   "metadata": {},
   "outputs": [
    {
     "data": {
      "text/plain": [
       "12281380"
      ]
     },
     "execution_count": 11,
     "metadata": {},
     "output_type": "execute_result"
    }
   ],
   "source": [
    "len(df_f)"
   ]
  },
  {
   "cell_type": "markdown",
   "id": "deecd8d3",
   "metadata": {},
   "source": [
    "### Random Sampling"
   ]
  },
  {
   "cell_type": "code",
   "execution_count": null,
   "id": "85e4ee61",
   "metadata": {},
   "outputs": [],
   "source": [
    "import pandas as pd\n",
    "df_f = pd.read_csv('/home/ec2-user/SageMaker/data/2023-07-23-fuelefficiency_score.csv')"
   ]
  },
  {
   "cell_type": "code",
   "execution_count": null,
   "id": "bad43add",
   "metadata": {},
   "outputs": [],
   "source": [
    "df_f"
   ]
  },
  {
   "cell_type": "code",
   "execution_count": null,
   "id": "6e6b0486",
   "metadata": {},
   "outputs": [],
   "source": [
    "df_f['date'] = pd.to_datetime(df_f['date'])"
   ]
  },
  {
   "cell_type": "code",
   "execution_count": null,
   "id": "76e75fc1",
   "metadata": {},
   "outputs": [],
   "source": [
    "df_f['year'] = df_f['date'].dt.year"
   ]
  },
  {
   "cell_type": "code",
   "execution_count": null,
   "id": "ffe6e7ec",
   "metadata": {},
   "outputs": [],
   "source": [
    "import numpy as np\n",
    "df_f = df_f.loc[(df_f['score'] >= -0.3) & (df_f['score'] <= 0.3)]"
   ]
  },
  {
   "cell_type": "code",
   "execution_count": null,
   "id": "c693ce07",
   "metadata": {},
   "outputs": [],
   "source": [
    "ex = df_f.sort_values('score').groupby('year').sample(8)"
   ]
  },
  {
   "cell_type": "code",
   "execution_count": null,
   "id": "a912ccdb",
   "metadata": {},
   "outputs": [],
   "source": [
    "ex1 = df_f.sort_values('score', ascending=False).groupby('year').head(4)"
   ]
  },
  {
   "cell_type": "code",
   "execution_count": null,
   "id": "336ec499",
   "metadata": {},
   "outputs": [],
   "source": [
    "random_sample = pd.concat([ex, ex1])"
   ]
  },
  {
   "cell_type": "code",
   "execution_count": null,
   "id": "e66c443f",
   "metadata": {},
   "outputs": [],
   "source": [
    "ex =ex[ex['year']>=1970].sort_values(by='year')"
   ]
  },
  {
   "cell_type": "code",
   "execution_count": null,
   "id": "8a89b926",
   "metadata": {},
   "outputs": [],
   "source": [
    "ex.to_csv('/home/ec2-user/SageMaker/data/random_sample1.csv')"
   ]
  },
  {
   "cell_type": "code",
   "execution_count": null,
   "id": "fdf3fa19",
   "metadata": {},
   "outputs": [],
   "source": []
  }
 ],
 "metadata": {
  "kernelspec": {
   "display_name": "sample-2022.05.25",
   "language": "python",
   "name": "sample-2022.05.25"
  },
  "language_info": {
   "codemirror_mode": {
    "name": "ipython",
    "version": 3
   },
   "file_extension": ".py",
   "mimetype": "text/x-python",
   "name": "python",
   "nbconvert_exporter": "python",
   "pygments_lexer": "ipython3",
   "version": "3.9.10"
  }
 },
 "nbformat": 4,
 "nbformat_minor": 5
}
